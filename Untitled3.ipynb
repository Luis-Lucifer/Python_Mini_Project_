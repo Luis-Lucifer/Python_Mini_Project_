{
 "cells": [
  {
   "cell_type": "code",
   "execution_count": 1,
   "id": "a41ee4e2",
   "metadata": {},
   "outputs": [],
   "source": [
    "import requests\n",
    "from bs4 import BeautifulSoup\n",
    "from smtplib import SMTP"
   ]
  },
  {
   "cell_type": "code",
   "execution_count": 2,
   "id": "73fde8f8",
   "metadata": {},
   "outputs": [],
   "source": [
    "URL=\"https://www.amazon.in/DELL-21-5-E2221HN-Panel-Full/dp/B08KP1P98T/ref=sr_1_1?crid=2HQC9R4FWVVVU&keywords=dell%2Bmonitor&qid=1670173827&sprefix=dell%2Bmonitor%2Caps%2C1279&sr=8-1&th=1\""
   ]
  },
  {
   "cell_type": "code",
   "execution_count": 3,
   "id": "248068a4",
   "metadata": {},
   "outputs": [
    {
     "name": "stdout",
     "output_type": "stream",
     "text": [
      "Email sent successfully...\n"
     ]
    }
   ],
   "source": [
    "def extract_price():\n",
    "    page = requests.get(URL,headers={'User-Agent':'Mozilla/5.0 (Windows NT 10.0; Win64; x64) AppleWebKit/537.36 (KHTML, like Gecko) Chrome/107.0.0.0 Safari/537.36'})\n",
    "    soup = BeautifulSoup(page.content,'html.parser')\n",
    "    price = float(soup.find_all('span',attrs={'class':'a-offscreen'})[0].text.replace(\",\",\"\").replace(\"₹\",\"\"))\n",
    "    return price\n",
    "\n",
    "SMTP_SERVER='smtp.gmail.com'\n",
    "PORT = 587\n",
    "EMAIL_ID=\"nilanjanworkplace2000@gmail.com\"\n",
    "PASSWORD ='ebucoppouqiwfbce'\n",
    "\n",
    "def notify():\n",
    "    server = SMTP(SMTP_SERVER, PORT)\n",
    "    server.starttls()\n",
    "    server.login(EMAIL_ID, PASSWORD)\n",
    "    subject = \"BUY NOW !!!\"\n",
    "    body = \"Price has dropped. Now price is affordable!!! Go to the site = \" + URL\n",
    "    msg = f\"Subject:{subject}\\n\\n{body}\"\n",
    "    server.sendmail(EMAIL_ID,EMAIL_ID,msg)\n",
    "    server.quit()\n",
    "    \n",
    "Affordable_price = 10000\n",
    "if extract_price() <= Affordable_price:\n",
    "    notify()\n",
    "    print(\"Email sent successfully...\")\n"
   ]
  },
  {
   "cell_type": "code",
   "execution_count": null,
   "id": "1ef3d0c3",
   "metadata": {},
   "outputs": [],
   "source": []
  }
 ],
 "metadata": {
  "kernelspec": {
   "display_name": "Python 3 (ipykernel)",
   "language": "python",
   "name": "python3"
  },
  "language_info": {
   "codemirror_mode": {
    "name": "ipython",
    "version": 3
   },
   "file_extension": ".py",
   "mimetype": "text/x-python",
   "name": "python",
   "nbconvert_exporter": "python",
   "pygments_lexer": "ipython3",
   "version": "3.9.7"
  }
 },
 "nbformat": 4,
 "nbformat_minor": 5
}
